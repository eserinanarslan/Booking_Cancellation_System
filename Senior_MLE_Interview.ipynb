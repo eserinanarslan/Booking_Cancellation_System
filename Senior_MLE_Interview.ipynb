{
 "cells": [
  {
   "cell_type": "markdown",
   "metadata": {},
   "source": [
    "Below are the instructions for the technical assessment. There are two parts: Data Science and Engineering. You should plan to spend about 1-2 hours on the Data Science portion and 1-2 hours on the engineering portion.\n",
    "\n",
    "## Data Science\n",
    "\n",
    "For the Data Science portion, it is important to note that your work won't be assessed on whether you get the best model, but that you understand important concepts behind analyzing the data, feature engineering and model development and evaluation. Keep this section simple, clear and illustrative of your understanding of how to prototype a model.\n",
    "\n",
    "## Engineering\n",
    "\n",
    "In a separate set of files (ie not in this Jupyter Notebook), take the model that you created and implement basic training and prediction pipelines that would simulate what you would implement in production. These pipelines should broadly cover the following steps:\n",
    "* Preprocessing\n",
    "  * This will be based off the raw data received at the beginning of DS assignment\n",
    "* Model Training & Evaluation\n",
    "* Predictions (in batch)\n",
    "\n",
    "*Some Requirements*:\n",
    "* The training and prediction pipelines should be independent of each other (though they can draw from the same base methods/classes if need be).\n",
    "* The prediction job predicts on the latest \"promoted\" model.\n",
    "* All model artifacts and outputs are stored according to date partition or, where relevant, by version\n",
    "* The training job includes logic around \"model promotion\"\n",
    "  * If there is an 10% increase in ROC/AUC over the previous model then promote model; else don't promote model\n",
    "* For both jobs, a user (human or machine) should be able to simply call on the script or import a class to run the pipeline\n",
    "\n",
    "*Bonus*:\n",
    "\n",
    "Parameterize the pipelines according to how a Data Scientist would use this.\n",
    "* Allow for arbitrary set of features to be passed into training (and prediction) job\n",
    "* Parameterize the % threshold increase to promote a model\n",
    "* Parameterize which evaluation metric can be used. To keep it simple, stick with most common metrics for evaluation\n",
    "\n",
    "\n",
    "Organize the files in a folder structure that would emulate how you would organize the code in a Github repo. Zip up all files and send them back to the recruiter by the morning of your interview."
   ]
  },
  {
   "cell_type": "markdown",
   "metadata": {
    "id": "DMgIWZaH9Bxj"
   },
   "source": [
    "# Data Science Portion"
   ]
  },
  {
   "cell_type": "markdown",
   "metadata": {
    "id": "LGu-avAzS48b"
   },
   "source": [
    "## Imports"
   ]
  },
  {
   "cell_type": "code",
   "execution_count": null,
   "metadata": {},
   "outputs": [],
   "source": [
    "!pip install pandas \n",
    "!pip install numpy\n",
    "!pip install -U scikit-learn"
   ]
  },
  {
   "cell_type": "code",
   "execution_count": null,
   "metadata": {
    "id": "8ZIukxdbQbjY"
   },
   "outputs": [],
   "source": [
    "import pandas as pd\n",
    "import numpy as np\n",
    "from sklearn import preprocessing\n",
    "# Add any other packages you would like to use here"
   ]
  },
  {
   "cell_type": "markdown",
   "metadata": {
    "id": "v0l5OEtrS2ww"
   },
   "source": [
    "## Dataset\n",
    "\n",
    "The dataset in this notebook is representive of Vacasa's internal data.\n",
    "\n",
    "In this notebook, we would like you to develop a model to predict whether a reservation will cancel and describe what the model learned. \n",
    "\n",
    "* The label in the dataset is given as `is_canceled`.\n",
    "* For a complete description of dataset, visit the link: https://www.sciencedirect.com/science/article/pii/S2352340918315191"
   ]
  },
  {
   "cell_type": "code",
   "execution_count": null,
   "metadata": {
    "colab": {
     "base_uri": "https://localhost:8080/",
     "height": 386
    },
    "id": "Zpih7K5PRm5h",
    "outputId": "0b3ed19e-173d-4a1c-cbcd-2454a8464e52"
   },
   "outputs": [],
   "source": [
    "df = pd.read_csv('train/hotel_bookings.csv')\n",
    "df.head()"
   ]
  },
  {
   "cell_type": "markdown",
   "metadata": {
    "id": "6tTaFJE5WThl"
   },
   "source": [
    " ## Helpful EDA"
   ]
  },
  {
   "cell_type": "code",
   "execution_count": null,
   "metadata": {
    "colab": {
     "base_uri": "https://localhost:8080/"
    },
    "id": "wVodDz_0aFu8",
    "outputId": "7135f791-6a46-4027-c588-a86d053aeab5"
   },
   "outputs": [],
   "source": [
    "df.info()"
   ]
  },
  {
   "cell_type": "code",
   "execution_count": null,
   "metadata": {
    "colab": {
     "base_uri": "https://localhost:8080/"
    },
    "id": "Epol_f85Zt1V",
    "outputId": "db3da042-4f16-4357-d414-def181e29313"
   },
   "outputs": [],
   "source": [
    "df['reservation_status'].unique()"
   ]
  },
  {
   "cell_type": "code",
   "execution_count": null,
   "metadata": {
    "colab": {
     "base_uri": "https://localhost:8080/"
    },
    "id": "xwx0-5mDdaea",
    "outputId": "91c22dbe-b66d-43f7-82cf-8bd888febb2c"
   },
   "outputs": [],
   "source": [
    "df['is_canceled'].mean()"
   ]
  },
  {
   "cell_type": "code",
   "execution_count": null,
   "metadata": {
    "colab": {
     "base_uri": "https://localhost:8080/"
    },
    "id": "iZb-XtBrWEAF",
    "outputId": "a6e2cd6a-d75e-406b-cdb9-128dffea1f4c"
   },
   "outputs": [],
   "source": [
    "df.shape"
   ]
  }
 ],
 "metadata": {
  "colab": {
   "provenance": []
  },
  "kernelspec": {
   "display_name": "Python 3 (ipykernel)",
   "language": "python",
   "name": "python3"
  },
  "language_info": {
   "codemirror_mode": {
    "name": "ipython",
    "version": 3
   },
   "file_extension": ".py",
   "mimetype": "text/x-python",
   "name": "python",
   "nbconvert_exporter": "python",
   "pygments_lexer": "ipython3",
   "version": "3.9.12"
  }
 },
 "nbformat": 4,
 "nbformat_minor": 1
}
